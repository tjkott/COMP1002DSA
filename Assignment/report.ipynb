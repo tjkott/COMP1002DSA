{
 "cells": [
  {
   "cell_type": "markdown",
   "id": "821cd984",
   "metadata": {},
   "source": [
    "# -------------------------------------------------------------------------------------\n",
    "# Justification of Design Choices (as required by deliverables)\n",
    "# -------------------------------------------------------------------------------------\n",
    "# 1. Collision Handling Strategy: Chaining\n",
    "#    - Chaining with linked lists was chosen over open addressing (linear probing).\n",
    "#    - Reason: Chaining is simpler to implement, especially for deletion (no need\n",
    "#      for a \"formerly used\" state). It also handles high load factors more\n",
    "#      gracefully; performance degrades per-slot rather than across the entire\n",
    "#      table due to clustering, which is a common issue with linear probing.\n",
    "#\n",
    "# 2. Hash Function & Table Size: Modulo with Prime Number\n",
    "#    - Hash Function: A simple character-based hash is used (sum of ASCII values\n",
    "#      of the patient ID). It's fast and sufficient for this application.\n",
    "#    - Table Size: The table size is always set to the next prime number greater\n",
    "#      than the requested capacity. Using a prime number helps distribute keys\n",
    "#      more uniformly when using the modulo operator, significantly reducing\n",
    "#      the number of initial collisions.\n",
    "# -------------------------------------------------------------------------------------\n",
    "\n",
    "\n",
    "\n",
    "What does \"O(1) Expected\" Really Mean?\n",
    "\n",
    "    O(n) (Slow): A plain list. Finding a patient in a 1,000-patient list takes, on average, 500 checks. In a 2,000-patient list, it takes 1,000. The time grows with the input size (n).\n",
    "\n",
    "    O(1) (Fast): A hash table. Finding a patient involves:\n",
    "\n",
    "        One hash calculation (instant).\n",
    "\n",
    "        Checking one room's list. Because your resizing keeps these lists (chains) super short (e.g., an average of 1 or 2 guests), the time it takes does not grow. It's constant, whether the hotel has 20 patients or 20 million.\n",
    "\n",
    "It's \"expected\" O(1) because of the worst-case scenario: a bad hash function could send all 1,000 patients to Room #5. Then, finding a patient in Room #5 is an O(n) operation. Your use of prime numbers and resizing is specifically designed to prevent this worst case and achieve the \"expected\" O(1) speed.\n",
    "\n"
   ]
  },
  {
   "cell_type": "markdown",
   "id": "55e4bb15",
   "metadata": {},
   "source": []
  }
 ],
 "metadata": {
  "language_info": {
   "name": "python"
  }
 },
 "nbformat": 4,
 "nbformat_minor": 5
}
