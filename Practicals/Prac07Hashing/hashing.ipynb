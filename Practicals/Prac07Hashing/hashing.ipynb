{
 "cells": [
  {
   "cell_type": "markdown",
   "id": "8b23723f",
   "metadata": {},
   "source": [
    "Here is how it satisfies each of the four key properties mentioned on slide 15 of the \"Lecture 07 Hashtables.pdf\":\n",
    "\n",
    "1. Returns Indexes Within the Array Bounds (Fulfilled) The function ensures its output is always a valid index by using the modulo operator (% self.get_capacity()). This operation guarantees that the returned hash_idx will be in the range [0, capacity-1], preventing any IndexOutOfBounds errors.\n",
    "\n",
    "2. Fast to Compute (Fulfilled) The computation involves a single loop through the characters of the input key, performing only simple integer multiplication and addition. This makes it very efficient. As noted on slide 21, its time complexity is O(L), where L is the length of the key. Since key length is independent of the number of items in the table (N), this is considered to be effectively constant time, O(1), which is ideal for a hash function.\n",
    "3. Repeatable (Fulfilled) For any given key, the function will always produce the same hash index, provided the table capacity remains the same. It does not use any random or time-varying elements, which is a critical requirement mentioned on slide 22. This deterministic behavior ensures that an entry, once placed, can be consistently found again.\n",
    "4. Distributes Keys Evenly (Largely Fulfilled) This is the most challenging property to achieve, but this implementation uses a proven technique.\n",
    "•\tOrder Matters: Unlike the \"add-them-all-up\" example of a poor hash function (slide 35), this function avoids collisions for anagrams (e.g., \"stop\" vs. \"pots\"). The multiplication by the prime number 31 makes the hash value dependent on the order of the characters.\n",
    "•\tUse of a Prime Multiplier: As shown on slide 29 with Java's hashCode() implementation, using a prime number like 31 as a multiplier is a standard practice. This helps to spread out the hash codes, reducing the likelihood of different keys mapping to the same index and thus minimizing collisions.\n",
    "By avoiding the common pitfalls of poor hash functions and using a standard, effective algorithm, this implementation provides a robust and reliable foundation for the hash table.\n"
   ]
  },
  {
   "cell_type": "markdown",
   "id": "08b21283",
   "metadata": {},
   "source": []
  }
 ],
 "metadata": {
  "language_info": {
   "name": "python"
  }
 },
 "nbformat": 4,
 "nbformat_minor": 5
}
